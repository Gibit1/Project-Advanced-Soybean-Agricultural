{
 "cells": [
  {
   "cell_type": "markdown",
   "id": "0f8f2d2c-c057-462f-aa30-07b59152085b",
   "metadata": {},
   "source": [
    "## AKONA CIKO _PROJECT"
   ]
  },
  {
   "cell_type": "markdown",
   "id": "3350246b-d55e-4e1d-afe8-c8d8bbc8e9ed",
   "metadata": {},
   "source": [
    "#### README.md:"
   ]
  },
  {
   "cell_type": "raw",
   "id": "6b074464-c4a7-41e0-9be7-34060c4cc688",
   "metadata": {},
   "source": [
    "# Soybean Classification Project\n",
    "\n",
    "## Project Overview\n",
    "This project aims to classify soybean plant characteristics based on various agricultural parameters using machine learning models. The dataset contains 55,450 rows and 13 essential features related to plant growth, productivity, and nutritional value.\n",
    "\n",
    "## Dataset\n",
    "The dataset includes key features such as plant height, number of pods, chlorophyll content, protein percentage, seed yield, and relative water content in leaves.\n",
    "\n",
    "## Objective\n",
    "The goal is to build a machine learning model that accurately predicts soybean plant characteristics, helping in yield optimization and sustainable farming practices.\n",
    "\n",
    "## Installation\n",
    "Clone the repository and install the required dependencies:\n",
    "\n",
    "```bash\n",
    "git clone <repository_link>\n",
    "cd soybean-classification\n",
    "pip install -r requirements.txt"
   ]
  },
  {
   "cell_type": "markdown",
   "id": "cf5faebe-1497-4f62-81a0-0f943fb83c30",
   "metadata": {},
   "source": [
    "#### Requirement.txt|file:"
   ]
  },
  {
   "cell_type": "raw",
   "id": "533dd409-1dd7-4fda-9030-9913d6ba9429",
   "metadata": {},
   "source": [
    "## This file contains the necessary Python libraries required for the project_\n",
    "\n",
    "pandas\n",
    "numpy\n",
    "matplotlib\n",
    "seaborn\n",
    "scikit-learn\n",
    "xgboost\n",
    "lightgbm\n",
    "tensorflow\n",
    "keras\n",
    "jupyter"
   ]
  },
  {
   "cell_type": "markdown",
   "id": "410e88a8-5811-412e-9142-16244163a85b",
   "metadata": {},
   "source": [
    "#### Necessary Libraries & Packages"
   ]
  },
  {
   "cell_type": "raw",
   "id": "c974e456-29dc-4a1d-abc5-64c92b88db7e",
   "metadata": {},
   "source": [
    "Necessary Libraries & Packages**\n",
    "Here are the key libraries you will need for the project:\n",
    "\n",
    "#### **Data Handling**\n",
    "- `pandas` → Data manipulation and analysis\n",
    "- `numpy` → Numerical computations\n",
    "\n",
    "#### **Data Visualization**\n",
    "- `matplotlib` → Basic plotting\n",
    "- `seaborn` → Statistical visualizations\n",
    "- `wordcloud` → Generating word clouds from text data\n",
    "\n",
    "#### **Machine Learning**\n",
    "- `scikit-learn` → Classification models, evaluation metrics\n",
    "- `nltk` → Natural language processing (for handling text-based features)\n",
    "\n",
    "#### **Jupyter Notebook**\n",
    "- `jupyter` → Running interactive notebooks"
   ]
  },
  {
   "cell_type": "markdown",
   "id": "be2509e6-a8f6-49f9-9ad4-c4079802c96d",
   "metadata": {},
   "source": [
    "#### Methodology:"
   ]
  },
  {
   "cell_type": "raw",
   "id": "0dbf9c01-7cff-410a-9050-e7834e92e26c",
   "metadata": {},
   "source": [
    "1. Data Preprocessing & Cleaning\n",
    "2. Exploratory Data Analysis (EDA)\n",
    "3. Feature Engineering\n",
    "4. Model Training & Evaluation\n",
    "5. Results & Insights"
   ]
  },
  {
   "cell_type": "markdown",
   "id": "ef3dfe2d-b276-4b18-a8dd-f027fce126eb",
   "metadata": {},
   "source": [
    "#### Dependencies:"
   ]
  },
  {
   "cell_type": "raw",
   "id": "b9ddd6fc-bc3d-44ac-bf2b-a69176b8472d",
   "metadata": {},
   "source": [
    "Python 3.8+\n",
    "Jupyter Notebook\n",
    "Scikit-learn\n",
    "Pandas, NumPy\n",
    "Matplotlib, Seaborn\n",
    "XGBoost, LightGBM, TensorFlow, Keras (for advanced models)"
   ]
  },
  {
   "cell_type": "markdown",
   "id": "eb3ab556-320b-4566-b864-86aa832555ee",
   "metadata": {},
   "source": [
    "#### License:"
   ]
  },
  {
   "cell_type": "raw",
   "id": "edad5d74-416d-4b38-85a3-259c2eac3c79",
   "metadata": {},
   "source": [
    "MIT License"
   ]
  },
  {
   "cell_type": "markdown",
   "id": "44afb473-b01d-4f5d-ad49-c2e1668af6ca",
   "metadata": {},
   "source": [
    "### Table of contents"
   ]
  },
  {
   "cell_type": "raw",
   "id": "407a4381-be89-4072-9696-406382f8b5d4",
   "metadata": {},
   "source": [
    "1. Introduction\n",
    "Project Background\n",
    "Objective\n",
    "\n",
    "2. Data Understanding\n",
    "Dataset Overview\n",
    "Feature Description\n",
    "Data Types and Structure\n",
    "\n",
    "3. Exploratory Data Analysis (EDA)\n",
    "Data Cleaning\n",
    "Handling Missing Values (if any)\n",
    "Summary Statistics\n",
    "Data Visualization\n",
    "\n",
    "4. Feature Engineering\n",
    "Feature Selection\n",
    "Feature Scaling & Encoding (if necessary)\n",
    "\n",
    "5. Model Building\n",
    "Splitting Data (Train/Test)\n",
    "Model Selection\n",
    "Model Training\n",
    "Hyperparameter Tuning\n",
    "\n",
    "6. Model Evaluation\n",
    "Performance Metrics (Accuracy, Precision, Recall, F1-Score)\n",
    "Confusion Matrix\n",
    "ROC Curve & AUC Score\n",
    "\n",
    "7. Results & Insights\n",
    "Key Findings\n",
    "Limitations\n",
    "\n",
    "8. Conclusion & Future Work"
   ]
  },
  {
   "cell_type": "markdown",
   "id": "92de040f-b46e-4a30-b8bb-94dc06f923c5",
   "metadata": {},
   "source": [
    "#### Necessary Libraries & Packages:"
   ]
  },
  {
   "cell_type": "code",
   "execution_count": null,
   "id": "ef5a777c-9f53-46de-b67a-f014d8f8e310",
   "metadata": {},
   "outputs": [],
   "source": [
    "# python_\n",
    "\n",
    "import pandas as pd\n",
    "import numpy as np\n",
    "import matplotlib.pyplot as plt\n",
    "import seaborn as sns\n",
    "from sklearn.model_selection import train_test_split\n",
    "from sklearn.preprocessing import StandardScaler, LabelEncoder\n",
    "from sklearn.ensemble import RandomForestClassifier\n",
    "from xgboost import XGBClassifier\n",
    "from sklearn.metrics import accuracy_score, classification_report, confusion_matrix\n",
    "import tensorflow as tf\n",
    "from tensorflow import keras"
   ]
  },
  {
   "cell_type": "code",
   "execution_count": null,
   "id": "229285e2-d6ad-4ddf-9c7b-8da8150af115",
   "metadata": {},
   "outputs": [],
   "source": [
    "-----------------------------------------------------> Lets START building our MODEL <------------------------------------------------------------------"
   ]
  },
  {
   "cell_type": "markdown",
   "id": "d625890a-b0ee-42db-b460-d97b59ebc183",
   "metadata": {},
   "source": [
    "### 1. Introduction:"
   ]
  },
  {
   "cell_type": "raw",
   "id": "c24a4898-8960-4108-8aa5-476a37300f05",
   "metadata": {},
   "source": [
    "Project Background_\n",
    "\n",
    "Soybeans are one of the most important agricultural crops globally, serving as a key source of protein, oil, and animal feed. Optimizing soybean yield and quality is crucial for food security and sustainable agriculture. Farmers and researchers rely on various plant growth parameters, such as plant height, number of pods, chlorophyll content, and protein percentage, to assess the health and productivity of soybean crops.\n",
    "\n",
    "Traditional methods for analyzing crop performance often involve manual observations and field experiments, which can be time-consuming and resource-intensive. However, advancements in machine learning provide an opportunity to automate and enhance the classification of soybean characteristics based on agricultural parameters. By leveraging data-driven approaches, researchers can make more informed decisions regarding crop management, breeding programs, and resource allocation.\n",
    "\n",
    "This project utilizes the Advanced Soybean Agricultural Dataset, which consists of 55,450 records with 13 key agricultural features. The dataset, compiled in 2025 at the College of Agriculture, University of Tikrit, captures essential soybean plant attributes under different environmental conditions. The goal of this study is to classify soybean plants based on these characteristics using machine learning models, thereby improving yield prediction and supporting sustainable agricultural practices."
   ]
  },
  {
   "cell_type": "raw",
   "id": "7ea6f2da-868f-404e-9a57-1b778c6ec4b0",
   "metadata": {},
   "source": [
    "Project Objective_\n",
    "\n",
    "The objective of this project is to build a classification model that accurately predicts soybean plant characteristics based on key agricultural parameters. By leveraging machine learning techniques, the goal is to analyze the dataset to gain insights into soybean growth patterns, optimize yield predictions, and support sustainable agricultural practices."
   ]
  },
  {
   "cell_type": "markdown",
   "id": "a960eff3-e6d4-40f5-8541-bca64e9066d7",
   "metadata": {},
   "source": [
    "### -----------------------------------------------------------------------------------------------------------------------------------"
   ]
  },
  {
   "cell_type": "raw",
   "id": "925a555f-dfb1-47c2-988c-354fd69b98f3",
   "metadata": {},
   "source": [
    "##### Install Kaggle so as to be able to gain access to set & create API key_ ###"
   ]
  },
  {
   "cell_type": "code",
   "execution_count": 1,
   "id": "5d3b5881-13c7-4369-9c7b-d4ebf568c339",
   "metadata": {},
   "outputs": [
    {
     "name": "stdout",
     "output_type": "stream",
     "text": [
      "Requirement already satisfied: kaggle in c:\\users\\f8871503\\programdata\\local\\anaconda3\\lib\\site-packages (1.6.17)\n",
      "Requirement already satisfied: six>=1.10 in c:\\users\\f8871503\\programdata\\local\\anaconda3\\lib\\site-packages (from kaggle) (1.16.0)\n",
      "Requirement already satisfied: certifi>=2023.7.22 in c:\\users\\f8871503\\programdata\\local\\anaconda3\\lib\\site-packages (from kaggle) (2024.7.4)\n",
      "Requirement already satisfied: python-dateutil in c:\\users\\f8871503\\programdata\\local\\anaconda3\\lib\\site-packages (from kaggle) (2.8.2)\n",
      "Requirement already satisfied: requests in c:\\users\\f8871503\\programdata\\local\\anaconda3\\lib\\site-packages (from kaggle) (2.31.0)\n",
      "Requirement already satisfied: tqdm in c:\\users\\f8871503\\programdata\\local\\anaconda3\\lib\\site-packages (from kaggle) (4.65.0)\n",
      "Requirement already satisfied: python-slugify in c:\\users\\f8871503\\programdata\\local\\anaconda3\\lib\\site-packages (from kaggle) (5.0.2)\n",
      "Requirement already satisfied: urllib3 in c:\\users\\f8871503\\programdata\\local\\anaconda3\\lib\\site-packages (from kaggle) (2.0.7)\n",
      "Requirement already satisfied: bleach in c:\\users\\f8871503\\programdata\\local\\anaconda3\\lib\\site-packages (from kaggle) (4.1.0)\n",
      "Requirement already satisfied: packaging in c:\\users\\f8871503\\programdata\\local\\anaconda3\\lib\\site-packages (from bleach->kaggle) (23.1)\n",
      "Requirement already satisfied: webencodings in c:\\users\\f8871503\\programdata\\local\\anaconda3\\lib\\site-packages (from bleach->kaggle) (0.5.1)\n",
      "Requirement already satisfied: text-unidecode>=1.3 in c:\\users\\f8871503\\programdata\\local\\anaconda3\\lib\\site-packages (from python-slugify->kaggle) (1.3)\n",
      "Requirement already satisfied: charset-normalizer<4,>=2 in c:\\users\\f8871503\\programdata\\local\\anaconda3\\lib\\site-packages (from requests->kaggle) (2.0.4)\n",
      "Requirement already satisfied: idna<4,>=2.5 in c:\\users\\f8871503\\programdata\\local\\anaconda3\\lib\\site-packages (from requests->kaggle) (3.4)\n",
      "Requirement already satisfied: colorama in c:\\users\\f8871503\\programdata\\local\\anaconda3\\lib\\site-packages (from tqdm->kaggle) (0.4.6)\n",
      "Note: you may need to restart the kernel to use updated packages.\n"
     ]
    }
   ],
   "source": [
    "pip install kaggle"
   ]
  },
  {
   "cell_type": "markdown",
   "id": "d4e2bcf4-2dad-47a5-8c99-668ef47e59d4",
   "metadata": {},
   "source": [
    "### -----------------------------------------------------------------------------------------------------------------------------------"
   ]
  },
  {
   "cell_type": "raw",
   "id": "8304c475-740b-4bf7-90e4-91b8b6e4f694",
   "metadata": {},
   "source": [
    "### Lists all files in the current directory_ ###"
   ]
  },
  {
   "cell_type": "code",
   "execution_count": 2,
   "id": "2e716b52-01b4-409d-aab7-c174707b5898",
   "metadata": {},
   "outputs": [
    {
     "name": "stdout",
     "output_type": "stream",
     "text": [
      "['.ipynb_checkpoints', 'Classification _Advanced Soybean Agricultural Dataset.ipynb', 'Classification _Advanced Soybean Agricultural Dataset.zip', 'kaggle.json']\n"
     ]
    }
   ],
   "source": [
    "import os\n",
    "\n",
    "print(os.listdir())  # Lists all files in the current directory"
   ]
  },
  {
   "cell_type": "markdown",
   "id": "1c654cc7-4e98-47a6-9ad6-1ed35ca2e302",
   "metadata": {},
   "source": [
    "### -----------------------------------------------------------------------------------------------------------------------------------"
   ]
  },
  {
   "cell_type": "raw",
   "id": "3761d036-c4a6-4490-898e-ffc1b8302298",
   "metadata": {},
   "source": [
    "## Extract to a new folder & List extracted files_ ##"
   ]
  },
  {
   "cell_type": "code",
   "execution_count": 3,
   "id": "0a2c07f4-c590-4ad0-bf9c-ef77f94705ee",
   "metadata": {},
   "outputs": [],
   "source": [
    "import zipfile\n",
    "\n",
    "with zipfile.ZipFile(\"Classification _Advanced Soybean Agricultural Dataset.zip\", \"r\") as zip_ref:\n",
    "    zip_ref.extractall(\"Advanced Soybean Agricultural dataset\") "
   ]
  },
  {
   "cell_type": "code",
   "execution_count": 4,
   "id": "a8a09e5a-987b-4920-94fe-456f169bd0da",
   "metadata": {},
   "outputs": [
    {
     "name": "stdout",
     "output_type": "stream",
     "text": [
      "['Advanced Soybean Agricultural Dataset.csv']\n"
     ]
    }
   ],
   "source": [
    "print(os.listdir(\"Advanced Soybean Agricultural dataset\")) "
   ]
  },
  {
   "cell_type": "markdown",
   "id": "2b90a618-a4d4-443b-b8dd-d913b47437a9",
   "metadata": {},
   "source": [
    "### -----------------------------------------------------------------------------------------------------------------------------------"
   ]
  },
  {
   "cell_type": "markdown",
   "id": "5ae3e3c1-9af6-4372-b924-db230acc6cb3",
   "metadata": {},
   "source": [
    "### 2. Data Understanding:"
   ]
  },
  {
   "cell_type": "raw",
   "id": "ac572ebf-36ac-4222-94f3-9639e51c5289",
   "metadata": {},
   "source": [
    "## Data loading & Overview of the set_ ##"
   ]
  },
  {
   "cell_type": "code",
   "execution_count": 2,
   "id": "d648d6b2-7341-4a4f-9278-1e2a8f5522a1",
   "metadata": {
    "scrolled": true
   },
   "outputs": [
    {
     "data": {
      "text/html": [
       "<div>\n",
       "<style scoped>\n",
       "    .dataframe tbody tr th:only-of-type {\n",
       "        vertical-align: middle;\n",
       "    }\n",
       "\n",
       "    .dataframe tbody tr th {\n",
       "        vertical-align: top;\n",
       "    }\n",
       "\n",
       "    .dataframe thead th {\n",
       "        text-align: right;\n",
       "    }\n",
       "</style>\n",
       "<table border=\"1\" class=\"dataframe\">\n",
       "  <thead>\n",
       "    <tr style=\"text-align: right;\">\n",
       "      <th></th>\n",
       "      <th>Parameters</th>\n",
       "      <th>Random</th>\n",
       "      <th>Plant Height (PH)</th>\n",
       "      <th>Number of Pods (NP)</th>\n",
       "      <th>Biological Weight (BW)</th>\n",
       "      <th>Sugars (Su)</th>\n",
       "      <th>Relative Water Content in Leaves (RWCL)</th>\n",
       "      <th>ChlorophyllA663</th>\n",
       "      <th>Chlorophyllb649</th>\n",
       "      <th>Protein Percentage (PPE)</th>\n",
       "      <th>Weight of 300 Seeds (W3S)</th>\n",
       "      <th>Leaf Area Index (LAI)</th>\n",
       "      <th>Seed Yield per Unit Area (SYUA)</th>\n",
       "      <th>Number of Seeds per Pod (NSP)</th>\n",
       "      <th>Protein Content (PCO)</th>\n",
       "    </tr>\n",
       "  </thead>\n",
       "  <tbody>\n",
       "    <tr>\n",
       "      <th>0</th>\n",
       "      <td>C1S1G5</td>\n",
       "      <td>R1</td>\n",
       "      <td>50.5</td>\n",
       "      <td>130.3</td>\n",
       "      <td>111.0</td>\n",
       "      <td>0.433</td>\n",
       "      <td>0.732</td>\n",
       "      <td>1.4</td>\n",
       "      <td>3.1</td>\n",
       "      <td>33.2</td>\n",
       "      <td>33.6</td>\n",
       "      <td>0.08</td>\n",
       "      <td>5567.4</td>\n",
       "      <td>1.86</td>\n",
       "      <td>0.82</td>\n",
       "    </tr>\n",
       "    <tr>\n",
       "      <th>1</th>\n",
       "      <td>C2S3G4</td>\n",
       "      <td>R1</td>\n",
       "      <td>44.5</td>\n",
       "      <td>132.0</td>\n",
       "      <td>80.0</td>\n",
       "      <td>0.334</td>\n",
       "      <td>0.674</td>\n",
       "      <td>7.1</td>\n",
       "      <td>2.2</td>\n",
       "      <td>38.5</td>\n",
       "      <td>34.4</td>\n",
       "      <td>0.09</td>\n",
       "      <td>2245.5</td>\n",
       "      <td>1.87</td>\n",
       "      <td>0.13</td>\n",
       "    </tr>\n",
       "    <tr>\n",
       "      <th>2</th>\n",
       "      <td>C2S1G6</td>\n",
       "      <td>R1</td>\n",
       "      <td>52.2</td>\n",
       "      <td>150.0</td>\n",
       "      <td>83.0</td>\n",
       "      <td>0.490</td>\n",
       "      <td>0.677</td>\n",
       "      <td>1.8</td>\n",
       "      <td>1.3</td>\n",
       "      <td>33.6</td>\n",
       "      <td>35.2</td>\n",
       "      <td>0.07</td>\n",
       "      <td>4326.7</td>\n",
       "      <td>2.04</td>\n",
       "      <td>0.15</td>\n",
       "    </tr>\n",
       "    <tr>\n",
       "      <th>3</th>\n",
       "      <td>C1S1G1</td>\n",
       "      <td>R1</td>\n",
       "      <td>50.5</td>\n",
       "      <td>140.8</td>\n",
       "      <td>66.0</td>\n",
       "      <td>0.163</td>\n",
       "      <td>0.745</td>\n",
       "      <td>1.1</td>\n",
       "      <td>3.0</td>\n",
       "      <td>33.5</td>\n",
       "      <td>52.3</td>\n",
       "      <td>0.09</td>\n",
       "      <td>6214.5</td>\n",
       "      <td>2.20</td>\n",
       "      <td>0.14</td>\n",
       "    </tr>\n",
       "    <tr>\n",
       "      <th>4</th>\n",
       "      <td>C1S2G6</td>\n",
       "      <td>R2</td>\n",
       "      <td>49.2</td>\n",
       "      <td>175.6</td>\n",
       "      <td>73.0</td>\n",
       "      <td>0.795</td>\n",
       "      <td>0.725</td>\n",
       "      <td>7.5</td>\n",
       "      <td>2.1</td>\n",
       "      <td>39.6</td>\n",
       "      <td>31.2</td>\n",
       "      <td>0.10</td>\n",
       "      <td>3897.8</td>\n",
       "      <td>1.88</td>\n",
       "      <td>0.60</td>\n",
       "    </tr>\n",
       "    <tr>\n",
       "      <th>5</th>\n",
       "      <td>C2S2G6</td>\n",
       "      <td>R2</td>\n",
       "      <td>52.0</td>\n",
       "      <td>136.0</td>\n",
       "      <td>62.0</td>\n",
       "      <td>0.265</td>\n",
       "      <td>0.633</td>\n",
       "      <td>4.3</td>\n",
       "      <td>1.2</td>\n",
       "      <td>33.5</td>\n",
       "      <td>44.4</td>\n",
       "      <td>0.07</td>\n",
       "      <td>3985.2</td>\n",
       "      <td>2.06</td>\n",
       "      <td>0.30</td>\n",
       "    </tr>\n",
       "    <tr>\n",
       "      <th>6</th>\n",
       "      <td>C1S1G6</td>\n",
       "      <td>R2</td>\n",
       "      <td>44.2</td>\n",
       "      <td>147.3</td>\n",
       "      <td>115.0</td>\n",
       "      <td>0.463</td>\n",
       "      <td>0.762</td>\n",
       "      <td>1.1</td>\n",
       "      <td>2.1</td>\n",
       "      <td>37.3</td>\n",
       "      <td>31.9</td>\n",
       "      <td>0.10</td>\n",
       "      <td>3029.3</td>\n",
       "      <td>1.60</td>\n",
       "      <td>0.48</td>\n",
       "    </tr>\n",
       "  </tbody>\n",
       "</table>\n",
       "</div>"
      ],
      "text/plain": [
       "  Parameters Random   Plant Height (PH)  Number of Pods (NP)  \\\n",
       "0     C1S1G5      R1               50.5                130.3   \n",
       "1     C2S3G4      R1               44.5                132.0   \n",
       "2     C2S1G6      R1               52.2                150.0   \n",
       "3     C1S1G1      R1               50.5                140.8   \n",
       "4     C1S2G6      R2               49.2                175.6   \n",
       "5     C2S2G6      R2               52.0                136.0   \n",
       "6     C1S1G6      R2               44.2                147.3   \n",
       "\n",
       "   Biological Weight (BW)  Sugars (Su)  \\\n",
       "0                   111.0        0.433   \n",
       "1                    80.0        0.334   \n",
       "2                    83.0        0.490   \n",
       "3                    66.0        0.163   \n",
       "4                    73.0        0.795   \n",
       "5                    62.0        0.265   \n",
       "6                   115.0        0.463   \n",
       "\n",
       "   Relative Water Content in Leaves (RWCL)  ChlorophyllA663  Chlorophyllb649  \\\n",
       "0                                    0.732              1.4              3.1   \n",
       "1                                    0.674              7.1              2.2   \n",
       "2                                    0.677              1.8              1.3   \n",
       "3                                    0.745              1.1              3.0   \n",
       "4                                    0.725              7.5              2.1   \n",
       "5                                    0.633              4.3              1.2   \n",
       "6                                    0.762              1.1              2.1   \n",
       "\n",
       "   Protein Percentage (PPE)  Weight of 300 Seeds (W3S)  Leaf Area Index (LAI)  \\\n",
       "0                      33.2                       33.6                   0.08   \n",
       "1                      38.5                       34.4                   0.09   \n",
       "2                      33.6                       35.2                   0.07   \n",
       "3                      33.5                       52.3                   0.09   \n",
       "4                      39.6                       31.2                   0.10   \n",
       "5                      33.5                       44.4                   0.07   \n",
       "6                      37.3                       31.9                   0.10   \n",
       "\n",
       "   Seed Yield per Unit Area (SYUA)  Number of Seeds per Pod (NSP)  \\\n",
       "0                           5567.4                           1.86   \n",
       "1                           2245.5                           1.87   \n",
       "2                           4326.7                           2.04   \n",
       "3                           6214.5                           2.20   \n",
       "4                           3897.8                           1.88   \n",
       "5                           3985.2                           2.06   \n",
       "6                           3029.3                           1.60   \n",
       "\n",
       "   Protein Content (PCO)  \n",
       "0                   0.82  \n",
       "1                   0.13  \n",
       "2                   0.15  \n",
       "3                   0.14  \n",
       "4                   0.60  \n",
       "5                   0.30  \n",
       "6                   0.48  "
      ]
     },
     "execution_count": 2,
     "metadata": {},
     "output_type": "execute_result"
    }
   ],
   "source": [
    "import pandas as pd\n",
    "\n",
    "Soy_set = pd.read_csv(\"Advanced Soybean Agricultural dataset/Advanced Soybean Agricultural dataset.csv\")\n",
    "Soy_set.head(7)"
   ]
  },
  {
   "cell_type": "raw",
   "id": "3efefdf6-b4ec-4d0e-afdb-56661b54e22e",
   "metadata": {},
   "source": [
    "## Checks info of the set_ ##"
   ]
  },
  {
   "cell_type": "code",
   "execution_count": 3,
   "id": "cf48daea-7dcc-48cb-9f6b-d1a7e4a7a05c",
   "metadata": {},
   "outputs": [
    {
     "name": "stdout",
     "output_type": "stream",
     "text": [
      "<class 'pandas.core.frame.DataFrame'>\n",
      "RangeIndex: 55450 entries, 0 to 55449\n",
      "Data columns (total 15 columns):\n",
      " #   Column                                   Non-Null Count  Dtype  \n",
      "---  ------                                   --------------  -----  \n",
      " 0   Parameters                               55450 non-null  object \n",
      " 1   Random                                   55450 non-null  object \n",
      " 2   Plant Height (PH)                        55450 non-null  float64\n",
      " 3   Number of Pods (NP)                      55450 non-null  float64\n",
      " 4   Biological Weight (BW)                   55450 non-null  float64\n",
      " 5   Sugars (Su)                              55450 non-null  float64\n",
      " 6   Relative Water Content in Leaves (RWCL)  55450 non-null  float64\n",
      " 7   ChlorophyllA663                          55450 non-null  float64\n",
      " 8   Chlorophyllb649                          55450 non-null  float64\n",
      " 9   Protein Percentage (PPE)                 55450 non-null  float64\n",
      " 10  Weight of 300 Seeds (W3S)                55450 non-null  float64\n",
      " 11  Leaf Area Index (LAI)                    55450 non-null  float64\n",
      " 12  Seed Yield per Unit Area (SYUA)          55450 non-null  float64\n",
      " 13  Number of Seeds per Pod (NSP)            55450 non-null  float64\n",
      " 14  Protein Content (PCO)                    55450 non-null  float64\n",
      "dtypes: float64(13), object(2)\n",
      "memory usage: 6.3+ MB\n"
     ]
    }
   ],
   "source": [
    "Soy_set.info()"
   ]
  },
  {
   "cell_type": "markdown",
   "id": "2f8be6df-1228-44e4-bb59-8f634eb4f081",
   "metadata": {},
   "source": [
    "### -----------------------------------------------------------------------------------------------------------------------------------"
   ]
  },
  {
   "cell_type": "markdown",
   "id": "1ad52c8e-3d7a-45d1-8526-37e44fd20c6b",
   "metadata": {},
   "source": [
    "### 3. Exploratory Data Analysis [EDA]:"
   ]
  },
  {
   "cell_type": "raw",
   "id": "2eb7a55d-e2b2-48b3-aea5-2fba06512d8e",
   "metadata": {},
   "source": [
    "a) Data Cleaning_\n"
   ]
  },
  {
   "cell_type": "raw",
   "id": "097bd5dd-bb70-4e4b-a119-8be19d7694d3",
   "metadata": {},
   "source": [
    "b) Handling Missing Values (if any)\n"
   ]
  },
  {
   "cell_type": "raw",
   "id": "9f8a5da8-b281-4c1f-83aa-eceeee7476e4",
   "metadata": {},
   "source": [
    "c) Summary Statistics\n"
   ]
  },
  {
   "cell_type": "code",
   "execution_count": null,
   "id": "9314e5bf-7468-48d5-a269-efb8900c676d",
   "metadata": {},
   "outputs": [],
   "source": [
    "d) Data Visualization"
   ]
  },
  {
   "cell_type": "markdown",
   "id": "298b883e-fb17-4709-91fb-1e9a9320e7a3",
   "metadata": {},
   "source": [
    "### -----------------------------------------------------------------------------------------------------------------------------------"
   ]
  },
  {
   "cell_type": "code",
   "execution_count": null,
   "id": "c01cabb0-6b31-47df-96fd-ff40b872cbd7",
   "metadata": {},
   "outputs": [],
   "source": []
  }
 ],
 "metadata": {
  "kernelspec": {
   "display_name": "Python 3 (ipykernel)",
   "language": "python",
   "name": "python3"
  },
  "language_info": {
   "codemirror_mode": {
    "name": "ipython",
    "version": 3
   },
   "file_extension": ".py",
   "mimetype": "text/x-python",
   "name": "python",
   "nbconvert_exporter": "python",
   "pygments_lexer": "ipython3",
   "version": "3.11.7"
  }
 },
 "nbformat": 4,
 "nbformat_minor": 5
}
